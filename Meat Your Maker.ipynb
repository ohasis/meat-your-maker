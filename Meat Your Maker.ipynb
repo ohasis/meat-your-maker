{
 "cells": [
  {
   "cell_type": "code",
   "execution_count": 1,
   "id": "28b0f4b6",
   "metadata": {},
   "outputs": [],
   "source": [
    "# Import for data manipulation\n",
    "import pandas as pd \n",
    "import sklearn as sk\n",
    "import numpy as np\n",
    "import seaborn as sns\n",
    "import matplotlib.pyplot as plt\n",
    "import statsmodels.api as sm\n",
    "import ast\n",
    "\n",
    "from scipy.stats import f_oneway\n",
    "\n",
    "# import re for regular expression\n",
    "import re\n",
    "\n",
    "# scikit-learn imports\n",
    "from sklearn.feature_extraction.text import CountVectorizer, TfidfVectorizer\n",
    "from sklearn.impute import SimpleImputer\n",
    "\n",
    "\n",
    "# Import package for sentiment analysis\n",
    "import nltk\n",
    "from nltk.tokenize import word_tokenize\n",
    "from nltk.sentiment import SentimentIntensityAnalyzer\n",
    "from nltk.corpus import stopwords"
   ]
  },
  {
   "cell_type": "code",
   "execution_count": 2,
   "id": "030d566b",
   "metadata": {},
   "outputs": [
    {
     "name": "stderr",
     "output_type": "stream",
     "text": [
      "[nltk_data] Downloading package punkt to /home/ealopez/nltk_data...\n",
      "[nltk_data]   Package punkt is already up-to-date!\n",
      "[nltk_data] Downloading package stopwords to\n",
      "[nltk_data]     /home/ealopez/nltk_data...\n",
      "[nltk_data]   Package stopwords is already up-to-date!\n"
     ]
    },
    {
     "data": {
      "text/plain": [
       "True"
      ]
     },
     "execution_count": 2,
     "metadata": {},
     "output_type": "execute_result"
    }
   ],
   "source": [
    "# Download for sentiment analysis\n",
    "nltk.download('punkt')\n",
    "nltk.download('stopwords')"
   ]
  },
  {
   "cell_type": "markdown",
   "id": "27ce4912",
   "metadata": {},
   "source": [
    "## Data Cleaning"
   ]
  },
  {
   "cell_type": "code",
   "execution_count": 3,
   "id": "6a857cbe",
   "metadata": {},
   "outputs": [],
   "source": [
    "df_food = pd.read_csv('food_experiment.csv')\n",
    "df_food = df_food.drop(columns = 'Timestamp')"
   ]
  },
  {
   "cell_type": "code",
   "execution_count": 4,
   "id": "b27f00c6",
   "metadata": {},
   "outputs": [],
   "source": [
    "df_food = df_food.rename(columns={'What day did you conduct these observations?':'Date Conducted', \n",
    "                                  'At which dining hall are you currently located?':'Location',\n",
    "                                 'During what hours is this dining hall open?':'Location Hours',\n",
    "                                  'When did you start your observations?':'Experiment Start',\n",
    "                                 'During what time of the day did you collect information at the dining hall?':'Time of Day',\n",
    "                                 'What kinds of dishes and materials are currently in use?': 'Dishes in Use',\n",
    "                                 'What dishes and materials are compostable and/or reusable?':'Sustainable Dishes and Materials',\n",
    "                                 'Total Number of Subjects Observed ':'Total Subjects',\n",
    "                                 'About how many subjects took the time to look at the current signage posted by the trash cans?':'Signage Viewer Total',\n",
    "                                 'About how many subjects properly disposed of food? (\"Proper Disposal\" - Sorting each item into their respective trash bins.)':'Properly Disposed Total',\n",
    "                                 'About how many subjects improperly disposed of food? (\"Improper Disposal\" - Not sorting each item into their respective trash bins.)':'Improperly Disposed Total',\n",
    "                                 'Observational Trends Noticed While Conducting Study':'Observational Trends',\n",
    "                                 'When did you conclude your observations?': 'Experiment End'})"
   ]
  },
  {
   "cell_type": "code",
   "execution_count": 5,
   "id": "ebc863bb",
   "metadata": {},
   "outputs": [
    {
     "data": {
      "text/plain": [
       "Index(['Date Conducted', 'Location', 'Location Hours', 'Experiment Start',\n",
       "       'Time of Day', 'Dishes in Use', 'Sustainable Dishes and Materials',\n",
       "       'Total Subjects', 'Signage Viewer Total', 'Properly Disposed Total',\n",
       "       'Improperly Disposed Total', 'Observational Trends', 'Experiment End'],\n",
       "      dtype='object')"
      ]
     },
     "execution_count": 5,
     "metadata": {},
     "output_type": "execute_result"
    }
   ],
   "source": [
    "df_food.columns"
   ]
  },
  {
   "cell_type": "markdown",
   "id": "b7372c3b",
   "metadata": {},
   "source": [
    "## Sentiment Analysis"
   ]
  },
  {
   "cell_type": "code",
   "execution_count": 6,
   "id": "99757a4c",
   "metadata": {},
   "outputs": [
    {
     "name": "stderr",
     "output_type": "stream",
     "text": [
      "[nltk_data] Downloading package vader_lexicon to\n",
      "[nltk_data]     /home/ealopez/nltk_data...\n",
      "[nltk_data]   Package vader_lexicon is already up-to-date!\n"
     ]
    },
    {
     "data": {
      "text/plain": [
       "True"
      ]
     },
     "execution_count": 6,
     "metadata": {},
     "output_type": "execute_result"
    }
   ],
   "source": [
    "# Download the VADER lexicon\n",
    "nltk.download('vader_lexicon')"
   ]
  },
  {
   "cell_type": "code",
   "execution_count": 7,
   "id": "21fe83a3",
   "metadata": {},
   "outputs": [],
   "source": [
    "# TDIF for column 'Observational Trends'\n",
    "# Begin preprocessing: lowercasing and removing non-alphanumeric characters\n",
    "trends = df_food['Observational Trends']\n",
    "trends = [re.sub(r'[^A-Za-z0-9]', ' ', trend) for trend in trends]\n",
    "trends = [trend.lower() for trend in trends]"
   ]
  },
  {
   "cell_type": "code",
   "execution_count": 8,
   "id": "2a992573",
   "metadata": {},
   "outputs": [],
   "source": [
    "# Begin text analysis\n",
    "tfidf = TfidfVectorizer(analyzer = 'word', \n",
    "                        max_features = 2000,\n",
    "                        tokenizer = word_tokenize,\n",
    "                        stop_words = stopwords.words(\"english\"))"
   ]
  },
  {
   "cell_type": "code",
   "execution_count": 9,
   "id": "9673ccdd",
   "metadata": {},
   "outputs": [
    {
     "name": "stderr",
     "output_type": "stream",
     "text": [
      "/opt/conda/lib/python3.9/site-packages/sklearn/feature_extraction/text.py:388: UserWarning: Your stop_words may be inconsistent with your preprocessing. Tokenizing the stop words generated tokens [\"'d\", \"'ll\", \"'re\", \"'s\", \"'ve\", 'could', 'might', 'must', \"n't\", 'need', 'sha', 'wo', 'would'] not in stop_words.\n",
      "  warnings.warn('Your stop_words may be inconsistent with '\n"
     ]
    }
   ],
   "source": [
    "tfidf_trends_array = tfidf.fit_transform(trends).toarray()\n",
    "df_trends = pd.DataFrame(tfidf_trends_array)\n",
    "df_trends.columns = tfidf.get_feature_names()"
   ]
  },
  {
   "cell_type": "code",
   "execution_count": 10,
   "id": "534c8d50",
   "metadata": {},
   "outputs": [],
   "source": [
    "most_unique_instores = df_trends.idxmax(axis = 1)"
   ]
  },
  {
   "cell_type": "code",
   "execution_count": 11,
   "id": "17f19f51",
   "metadata": {},
   "outputs": [],
   "source": [
    "df_trends = pd.DataFrame(np.sum(df_trends, axis = 0))\n",
    "df_trends = df_trends.loc['able':]\n",
    "df_trends_vals = df_trends.loc[:,0]\n",
    "df_trends['tfidf'] = df_trends_vals\n",
    "df_trends = df_trends.sort_values(by = 'tfidf', ascending = False)"
   ]
  },
  {
   "cell_type": "code",
   "execution_count": 12,
   "id": "50d96afb",
   "metadata": {},
   "outputs": [],
   "source": [
    "df_trends = df_trends.loc[:'trays']\n",
    "df_trends = df_trends.transpose()"
   ]
  },
  {
   "cell_type": "markdown",
   "id": "0d48b0bd",
   "metadata": {},
   "source": [
    "**What were the top 20 most common words in responses to the following prompt:**\n",
    "\n",
    "***\"Observational Trends Sample Questions\"***"
   ]
  },
  {
   "cell_type": "code",
   "execution_count": 13,
   "id": "4c54cfce",
   "metadata": {},
   "outputs": [
    {
     "data": {
      "text/plain": [
       "<AxesSubplot:ylabel='Count'>"
      ]
     },
     "execution_count": 13,
     "metadata": {},
     "output_type": "execute_result"
    },
    {
     "data": {
      "image/png": "[encoded data removed]",
      "text/plain": [
       "<Figure size 432x288 with 1 Axes>"
      ]
     },
     "metadata": {
      "needs_background": "light"
     },
     "output_type": "display_data"
    }
   ],
   "source": [
    "sns.histplot(data = df_trends)\n",
    "\n",
    "# the word with the highest value is \"people\" and so on"
   ]
  },
  {
   "cell_type": "markdown",
   "id": "96835e2a",
   "metadata": {},
   "source": [
    "## Data Setup"
   ]
  },
  {
   "cell_type": "code",
   "execution_count": 14,
   "id": "7b8297e8",
   "metadata": {},
   "outputs": [
    {
     "data": {
      "text/html": [
       "<div>\n",
       "<style scoped>\n",
       "    .dataframe tbody tr th:only-of-type {\n",
       "        vertical-align: middle;\n",
       "    }\n",
       "\n",
       "    .dataframe tbody tr th {\n",
       "        vertical-align: top;\n",
       "    }\n",
       "\n",
       "    .dataframe thead th {\n",
       "        text-align: right;\n",
       "    }\n",
       "</style>\n",
       "<table border=\"1\" class=\"dataframe\">\n",
       "  <thead>\n",
       "    <tr style=\"text-align: right;\">\n",
       "      <th></th>\n",
       "      <th>Location</th>\n",
       "      <th>Experiment Start</th>\n",
       "      <th>Time of Day</th>\n",
       "      <th>Dishes in Use</th>\n",
       "      <th>Sustainable Dishes and Materials</th>\n",
       "      <th>Total Subjects</th>\n",
       "      <th>Signage Viewer Total</th>\n",
       "      <th>Properly Disposed Total</th>\n",
       "      <th>Improperly Disposed Total</th>\n",
       "      <th>Experiment End</th>\n",
       "    </tr>\n",
       "  </thead>\n",
       "  <tbody>\n",
       "    <tr>\n",
       "      <th>0</th>\n",
       "      <td>Warren</td>\n",
       "      <td>7:00:00 PM</td>\n",
       "      <td>Weekend Dinner</td>\n",
       "      <td>Compostable, Reusable</td>\n",
       "      <td>Glass Dishes\\nRed Trays\\nPlastic Cups\\nTriton ...</td>\n",
       "      <td>61</td>\n",
       "      <td>60</td>\n",
       "      <td>60</td>\n",
       "      <td>1</td>\n",
       "      <td>8:00:00 PM</td>\n",
       "    </tr>\n",
       "    <tr>\n",
       "      <th>1</th>\n",
       "      <td>Medical Campus</td>\n",
       "      <td>11:00:00 AM</td>\n",
       "      <td>Lunch Rush</td>\n",
       "      <td>Compostable, Reusable</td>\n",
       "      <td>Some of the plate, utensils, ect. are reusable...</td>\n",
       "      <td>38</td>\n",
       "      <td>3</td>\n",
       "      <td>32</td>\n",
       "      <td>6</td>\n",
       "      <td>12:00:00 PM</td>\n",
       "    </tr>\n",
       "    <tr>\n",
       "      <th>2</th>\n",
       "      <td>Warren</td>\n",
       "      <td>11:00:00 AM</td>\n",
       "      <td>Lunch Rush</td>\n",
       "      <td>Reusable</td>\n",
       "      <td>the utensils and plates, cups</td>\n",
       "      <td>72</td>\n",
       "      <td>31</td>\n",
       "      <td>44</td>\n",
       "      <td>28</td>\n",
       "      <td>12:16:00 PM</td>\n",
       "    </tr>\n",
       "    <tr>\n",
       "      <th>3</th>\n",
       "      <td>Sixth (Lower Dining Hall)</td>\n",
       "      <td>11:41:00 AM</td>\n",
       "      <td>Lunch Rush, Off Hours</td>\n",
       "      <td>Compostable, Reusable, Non-reusable paper cont...</td>\n",
       "      <td>Glass bowls, plastic cups, plastic Triton 2 Go...</td>\n",
       "      <td>26</td>\n",
       "      <td>25</td>\n",
       "      <td>22</td>\n",
       "      <td>4</td>\n",
       "      <td>12:39:00 PM</td>\n",
       "    </tr>\n",
       "    <tr>\n",
       "      <th>4</th>\n",
       "      <td>Ocean View Terrace (OVT)</td>\n",
       "      <td>11:15:00 AM</td>\n",
       "      <td>Lunch Rush</td>\n",
       "      <td>Compostable, Reusable</td>\n",
       "      <td>Plastic red trays\\nPlastic white bowls\\nPaper cup</td>\n",
       "      <td>40</td>\n",
       "      <td>35</td>\n",
       "      <td>35</td>\n",
       "      <td>5</td>\n",
       "      <td>12:20:00 AM</td>\n",
       "    </tr>\n",
       "    <tr>\n",
       "      <th>5</th>\n",
       "      <td>Medical Campus</td>\n",
       "      <td>1:15:00 PM</td>\n",
       "      <td>Lunch Rush, Off Hours</td>\n",
       "      <td>Compostable, Disposable</td>\n",
       "      <td>Paper and cardboard boxes, bowls, cups, and pl...</td>\n",
       "      <td>6</td>\n",
       "      <td>1</td>\n",
       "      <td>0</td>\n",
       "      <td>6</td>\n",
       "      <td>1:55:00 PM</td>\n",
       "    </tr>\n",
       "    <tr>\n",
       "      <th>6</th>\n",
       "      <td>Ocean View Terrace (OVT)</td>\n",
       "      <td>3:00:00 PM</td>\n",
       "      <td>Off Hours</td>\n",
       "      <td>Compostable, Reusable</td>\n",
       "      <td>Treys, dishes, ect.</td>\n",
       "      <td>46</td>\n",
       "      <td>5</td>\n",
       "      <td>42</td>\n",
       "      <td>4</td>\n",
       "      <td>4:00:00 PM</td>\n",
       "    </tr>\n",
       "    <tr>\n",
       "      <th>7</th>\n",
       "      <td>Sixth (Lower Dining Hall)</td>\n",
       "      <td>9:30:00 AM</td>\n",
       "      <td>Breakfast Rush</td>\n",
       "      <td>Compostable, Reusable</td>\n",
       "      <td>they use reusable trays, utensils, plates, and...</td>\n",
       "      <td>44</td>\n",
       "      <td>12</td>\n",
       "      <td>8</td>\n",
       "      <td>36</td>\n",
       "      <td>11:00:00 AM</td>\n",
       "    </tr>\n",
       "  </tbody>\n",
       "</table>\n",
       "</div>"
      ],
      "text/plain": [
       "                    Location Experiment Start            Time of Day  \\\n",
       "0                     Warren       7:00:00 PM         Weekend Dinner   \n",
       "1             Medical Campus      11:00:00 AM             Lunch Rush   \n",
       "2                     Warren      11:00:00 AM             Lunch Rush   \n",
       "3  Sixth (Lower Dining Hall)      11:41:00 AM  Lunch Rush, Off Hours   \n",
       "4   Ocean View Terrace (OVT)      11:15:00 AM             Lunch Rush   \n",
       "5             Medical Campus       1:15:00 PM  Lunch Rush, Off Hours   \n",
       "6   Ocean View Terrace (OVT)       3:00:00 PM              Off Hours   \n",
       "7  Sixth (Lower Dining Hall)       9:30:00 AM         Breakfast Rush   \n",
       "\n",
       "                                       Dishes in Use  \\\n",
       "0                              Compostable, Reusable   \n",
       "1                              Compostable, Reusable   \n",
       "2                                           Reusable   \n",
       "3  Compostable, Reusable, Non-reusable paper cont...   \n",
       "4                              Compostable, Reusable   \n",
       "5                            Compostable, Disposable   \n",
       "6                              Compostable, Reusable   \n",
       "7                              Compostable, Reusable   \n",
       "\n",
       "                    Sustainable Dishes and Materials  Total Subjects  \\\n",
       "0  Glass Dishes\\nRed Trays\\nPlastic Cups\\nTriton ...              61   \n",
       "1  Some of the plate, utensils, ect. are reusable...              38   \n",
       "2                     the utensils and plates, cups               72   \n",
       "3  Glass bowls, plastic cups, plastic Triton 2 Go...              26   \n",
       "4  Plastic red trays\\nPlastic white bowls\\nPaper cup              40   \n",
       "5  Paper and cardboard boxes, bowls, cups, and pl...               6   \n",
       "6                               Treys, dishes, ect.               46   \n",
       "7  they use reusable trays, utensils, plates, and...              44   \n",
       "\n",
       "   Signage Viewer Total  Properly Disposed Total  Improperly Disposed Total  \\\n",
       "0                    60                       60                          1   \n",
       "1                     3                       32                          6   \n",
       "2                    31                       44                         28   \n",
       "3                    25                       22                          4   \n",
       "4                    35                       35                          5   \n",
       "5                     1                        0                          6   \n",
       "6                     5                       42                          4   \n",
       "7                    12                        8                         36   \n",
       "\n",
       "  Experiment End  \n",
       "0     8:00:00 PM  \n",
       "1    12:00:00 PM  \n",
       "2    12:16:00 PM  \n",
       "3    12:39:00 PM  \n",
       "4    12:20:00 AM  \n",
       "5     1:55:00 PM  \n",
       "6     4:00:00 PM  \n",
       "7    11:00:00 AM  "
      ]
     },
     "execution_count": 14,
     "metadata": {},
     "output_type": "execute_result"
    }
   ],
   "source": [
    "df_food = df_food.drop(columns = ['Date Conducted', 'Location Hours', 'Observational Trends'], axis = 1)\n",
    "df_food"
   ]
  },
  {
   "cell_type": "markdown",
   "id": "89a83c36",
   "metadata": {},
   "source": [
    "### Sixth College"
   ]
  },
  {
   "cell_type": "code",
   "execution_count": 15,
   "id": "4f5f80f1",
   "metadata": {},
   "outputs": [],
   "source": [
    "df_sixth = df_food.drop([0, 1, 2, 4, 5, 6]).reset_index()\n",
    "df_sixth = df_sixth.loc[:,'Total Subjects':'Improperly Disposed Total']"
   ]
  },
  {
   "cell_type": "code",
   "execution_count": 16,
   "id": "cec703a6",
   "metadata": {},
   "outputs": [],
   "source": [
    "sixth_one = df_sixth.loc[:, 'Total Subjects'].sum(axis = 0)\n",
    "sixth_two = df_sixth.loc[:, 'Signage Viewer Total'].sum(axis = 0)\n",
    "sixth_three = df_sixth.loc[:, 'Properly Disposed Total'].sum(axis = 0)\n",
    "sixth_four = df_sixth.loc[:, 'Improperly Disposed Total'].sum(axis = 0)"
   ]
  },
  {
   "cell_type": "markdown",
   "id": "df576355",
   "metadata": {},
   "source": [
    "### Ocean View Terrace"
   ]
  },
  {
   "cell_type": "code",
   "execution_count": 17,
   "id": "635e5d3b",
   "metadata": {},
   "outputs": [],
   "source": [
    "df_ovt = df_food.drop([0, 1, 2, 3, 5, 7]).reset_index()\n",
    "df_ovt = df_ovt.loc[:,'Total Subjects':'Improperly Disposed Total']"
   ]
  },
  {
   "cell_type": "code",
   "execution_count": 18,
   "id": "3553cc08",
   "metadata": {},
   "outputs": [],
   "source": [
    "ovt_one = df_ovt.loc[:, 'Total Subjects'].sum(axis = 0)\n",
    "ovt_two = df_ovt.loc[:, 'Signage Viewer Total'].sum(axis = 0)\n",
    "ovt_three = df_ovt.loc[:, 'Properly Disposed Total'].sum(axis = 0)\n",
    "ovt_four = df_ovt.loc[:, 'Improperly Disposed Total'].sum(axis = 0)"
   ]
  },
  {
   "cell_type": "markdown",
   "id": "c928a599",
   "metadata": {},
   "source": [
    "### Medical Campus"
   ]
  },
  {
   "cell_type": "code",
   "execution_count": 19,
   "id": "d0a8bc8f",
   "metadata": {},
   "outputs": [],
   "source": [
    "df_med = df_food.drop([0, 2, 3, 4, 6, 7]).reset_index()\n",
    "df_med = df_med.loc[:,'Total Subjects':'Improperly Disposed Total']"
   ]
  },
  {
   "cell_type": "code",
   "execution_count": 20,
   "id": "5a7057e8",
   "metadata": {},
   "outputs": [],
   "source": [
    "med_one = df_med.loc[:, 'Total Subjects'].sum(axis = 0)\n",
    "med_two = df_med.loc[:, 'Signage Viewer Total'].sum(axis = 0)\n",
    "med_three = df_med.loc[:, 'Properly Disposed Total'].sum(axis = 0)\n",
    "med_four = df_med.loc[:, 'Improperly Disposed Total'].sum(axis = 0)"
   ]
  },
  {
   "cell_type": "markdown",
   "id": "aa2bb423",
   "metadata": {},
   "source": [
    "### Warren College"
   ]
  },
  {
   "cell_type": "code",
   "execution_count": 21,
   "id": "c229d36b",
   "metadata": {},
   "outputs": [],
   "source": [
    "df_warren = df_food.drop([0, 1, 2, 3, 5, 7]).reset_index()\n",
    "df_warren = df_warren.loc[:,'Total Subjects':'Improperly Disposed Total']"
   ]
  },
  {
   "cell_type": "code",
   "execution_count": 22,
   "id": "db111f67",
   "metadata": {},
   "outputs": [],
   "source": [
    "warren_one = df_warren.loc[:, 'Total Subjects'].sum(axis = 0)\n",
    "warren_two = df_warren.loc[:, 'Signage Viewer Total'].sum(axis = 0)\n",
    "warren_three = df_warren.loc[:, 'Properly Disposed Total'].sum(axis = 0)\n",
    "warren_four = df_warren.loc[:, 'Improperly Disposed Total'].sum(axis = 0)"
   ]
  },
  {
   "cell_type": "markdown",
   "id": "04600e36",
   "metadata": {},
   "source": [
    "## Student Food Disposal Habits"
   ]
  },
  {
   "cell_type": "code",
   "execution_count": 28,
   "id": "91d6e225",
   "metadata": {},
   "outputs": [],
   "source": [
    "df_plots = pd.DataFrame({'Total Subjects': [sixth_one,\n",
    "                                            ovt_one,\n",
    "                                            med_one,\n",
    "                                            warren_one],\n",
    "                       'Signage Viewer Total': [sixth_two,\n",
    "                                                 ovt_two,\n",
    "                                                 med_two,\n",
    "                                                 warren_two],\n",
    "                       'Properly Disposed Total': [sixth_three,\n",
    "                                                   ovt_three,\n",
    "                                                   med_three,\n",
    "                                                   warren_three],\n",
    "                       'Improperly Disposed Total': [sixth_four,\n",
    "                                                     ovt_four,\n",
    "                                                     med_four,\n",
    "                                                     warren_four]},\n",
    "                        index = ['Sixth College', \n",
    "                                 'Ocean View Terrace', \n",
    "                                 'Medical Campus', \n",
    "                                 'Warren College'])"
   ]
  },
  {
   "cell_type": "code",
   "execution_count": 42,
   "id": "9e6081a6",
   "metadata": {},
   "outputs": [
    {
     "data": {
      "text/plain": [
       "[[                    Total Subjects  Signage Viewer Total  \\\n",
       "  Sixth College                   70                    37   \n",
       "  Ocean View Terrace              86                    40   \n",
       "  Medical Campus                  44                     4   \n",
       "  Warren College                  86                    40   \n",
       "  \n",
       "                      Properly Disposed Total  Improperly Disposed Total  \n",
       "  Sixth College                            30                         40  \n",
       "  Ocean View Terrace                       77                          9  \n",
       "  Medical Campus                           32                         12  \n",
       "  Warren College                           77                          9  ]]"
      ]
     },
     "execution_count": 42,
     "metadata": {},
     "output_type": "execute_result"
    }
   ],
   "source": [
    "pd.DataFrame(df_plots)"
   ]
  },
  {
   "cell_type": "code",
   "execution_count": 36,
   "id": "72d2ad13",
   "metadata": {},
   "outputs": [
    {
     "data": {
      "text/plain": [
       "array([<AxesSubplot:ylabel='Total Subjects'>], dtype=object)"
      ]
     },
     "execution_count": 36,
     "metadata": {},
     "output_type": "execute_result"
    },
    {
     "data": {
      "image/png": "[encoded data removed]",
      "text/plain": [
       "<Figure size 360x360 with 1 Axes>"
      ]
     },
     "metadata": {},
     "output_type": "display_data"
    }
   ],
   "source": [
    "df_plots.plot.pie(y = 'Total Subjects', subplots = True, figsize = (5, 5))"
   ]
  },
  {
   "cell_type": "code",
   "execution_count": 37,
   "id": "0f1f72e9",
   "metadata": {},
   "outputs": [
    {
     "data": {
      "text/plain": [
       "array([<AxesSubplot:ylabel='Signage Viewer Total'>], dtype=object)"
      ]
     },
     "execution_count": 37,
     "metadata": {},
     "output_type": "execute_result"
    },
    {
     "data": {
      "image/png": "[encoded data removed]",
      "text/plain": [
       "<Figure size 360x360 with 1 Axes>"
      ]
     },
     "metadata": {},
     "output_type": "display_data"
    }
   ],
   "source": [
    "df_plots.plot.pie(y = 'Signage Viewer Total', subplots = True, figsize = (5, 5))"
   ]
  },
  {
   "cell_type": "code",
   "execution_count": 38,
   "id": "23734f10",
   "metadata": {},
   "outputs": [
    {
     "data": {
      "text/plain": [
       "array([<AxesSubplot:ylabel='Properly Disposed Total'>], dtype=object)"
      ]
     },
     "execution_count": 38,
     "metadata": {},
     "output_type": "execute_result"
    },
    {
     "data": {
      "image/png": "[encoded data removed]",
      "text/plain": [
       "<Figure size 360x360 with 1 Axes>"
      ]
     },
     "metadata": {},
     "output_type": "display_data"
    }
   ],
   "source": [
    "df_plots.plot.pie(y = 'Properly Disposed Total', subplots = True, figsize = (5, 5))"
   ]
  },
  {
   "cell_type": "code",
   "execution_count": 39,
   "id": "76bdfd70",
   "metadata": {},
   "outputs": [
    {
     "data": {
      "text/plain": [
       "array([<AxesSubplot:ylabel='Improperly Disposed Total'>], dtype=object)"
      ]
     },
     "execution_count": 39,
     "metadata": {},
     "output_type": "execute_result"
    },
    {
     "data": {
      "image/png": "[encoded data removed]",
      "text/plain": [
       "<Figure size 360x360 with 1 Axes>"
      ]
     },
     "metadata": {},
     "output_type": "display_data"
    }
   ],
   "source": [
    "df_plots.plot.pie(y = 'Improperly Disposed Total', subplots = True, figsize = (5, 5))"
   ]
  }
 ],
 "metadata": {
  "kernelspec": {
   "display_name": "Python 3 (ipykernel)",
   "language": "python",
   "name": "python3"
  },
  "language_info": {
   "codemirror_mode": {
    "name": "ipython",
    "version": 3
   },
   "file_extension": ".py",
   "mimetype": "text/x-python",
   "name": "python",
   "nbconvert_exporter": "python",
   "pygments_lexer": "ipython3",
   "version": "3.9.5"
  }
 },
 "nbformat": 4,
 "nbformat_minor": 5
}
