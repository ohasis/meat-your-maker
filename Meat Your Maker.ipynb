{
 "cells": [
  {
   "cell_type": "code",
   "execution_count": 1,
   "id": "28b0f4b6",
   "metadata": {},
   "outputs": [],
   "source": [
    "# Import for data manipulation\n",
    "import pandas as pd \n",
    "import sklearn as sk\n",
    "import numpy as np\n",
    "import seaborn as sns\n",
    "import matplotlib.pyplot as plt\n",
    "import statsmodels.api as sm\n",
    "import ast\n",
    "\n",
    "from scipy.stats import f_oneway\n",
    "\n",
    "# import re for regular expression\n",
    "import re\n",
    "\n",
    "# scikit-learn imports\n",
    "from sklearn.feature_extraction.text import CountVectorizer, TfidfVectorizer\n",
    "from sklearn.impute import SimpleImputer\n",
    "\n",
    "\n",
    "# Import package for sentiment analysis\n",
    "import nltk\n",
    "from nltk.tokenize import word_tokenize\n",
    "from nltk.sentiment import SentimentIntensityAnalyzer\n",
    "from nltk.corpus import stopwords"
   ]
  },
  {
   "cell_type": "code",
   "execution_count": 2,
   "id": "030d566b",
   "metadata": {},
   "outputs": [
    {
     "name": "stderr",
     "output_type": "stream",
     "text": [
      "[nltk_data] Downloading package punkt to /home/ealopez/nltk_data...\n",
      "[nltk_data]   Package punkt is already up-to-date!\n",
      "[nltk_data] Downloading package stopwords to\n",
      "[nltk_data]     /home/ealopez/nltk_data...\n",
      "[nltk_data]   Package stopwords is already up-to-date!\n"
     ]
    },
    {
     "data": {
      "text/plain": [
       "True"
      ]
     },
     "execution_count": 2,
     "metadata": {},
     "output_type": "execute_result"
    }
   ],
   "source": [
    "# Download for sentiment analysis\n",
    "nltk.download('punkt')\n",
    "nltk.download('stopwords')"
   ]
  },
  {
   "cell_type": "markdown",
   "id": "27ce4912",
   "metadata": {},
   "source": [
    "## Data Cleaning"
   ]
  },
  {
   "cell_type": "code",
   "execution_count": 3,
   "id": "6a857cbe",
   "metadata": {},
   "outputs": [],
   "source": [
    "df_food = pd.read_csv('food_experiment.csv')\n",
    "df_food = df_food.drop(columns = 'Timestamp')"
   ]
  },
  {
   "cell_type": "code",
   "execution_count": 4,
   "id": "b27f00c6",
   "metadata": {},
   "outputs": [],
   "source": [
    "df_food = df_food.rename(columns={'What day did you conduct these observations?':'Date Conducted', \n",
    "                                  'At which dining hall are you currently located?':'Location',\n",
    "                                 'During what hours is this dining hall open?':'Location Hours',\n",
    "                                  'When did you start your observations?':'Experiment Start',\n",
    "                                 'During what time of the day did you collect information at the dining hall?':'Time of Day',\n",
    "                                 'What kinds of dishes and materials are currently in use?': 'Dishes in Use',\n",
    "                                 'What dishes and materials are compostable and/or reusable?':'Sustainable Dishes and Materials',\n",
    "                                 'Total Number of Subjects Observed ':'Total Subjects',\n",
    "                                 'About how many subjects took the time to look at the current signage posted by the trash cans?':'Signage Viewer Total',\n",
    "                                 'About how many subjects properly disposed of food? (\"Proper Disposal\" - Sorting each item into their respective trash bins.)':'Properly Disposed Total',\n",
    "                                 'About how many subjects improperly disposed of food? (\"Improper Disposal\" - Not sorting each item into their respective trash bins.)':'Improperly Disposed Total',\n",
    "                                 'Observational Trends Noticed While Conducting Study':'Observational Trends',\n",
    "                                 'When did you conclude your observations?': 'Experiment End'})"
   ]
  },
  {
   "cell_type": "code",
   "execution_count": 5,
   "id": "ebc863bb",
   "metadata": {},
   "outputs": [
    {
     "data": {
      "text/plain": [
       "Index(['Date Conducted', 'Location', 'Location Hours', 'Experiment Start',\n",
       "       'Time of Day', 'Dishes in Use', 'Sustainable Dishes and Materials',\n",
       "       'Total Subjects', 'Signage Viewer Total', 'Properly Disposed Total',\n",
       "       'Improperly Disposed Total', 'Observational Trends', 'Experiment End'],\n",
       "      dtype='object')"
      ]
     },
     "execution_count": 5,
     "metadata": {},
     "output_type": "execute_result"
    }
   ],
   "source": [
    "df_food.columns"
   ]
  },
  {
   "cell_type": "markdown",
   "id": "b7372c3b",
   "metadata": {},
   "source": [
    "## Sentiment Analysis"
   ]
  },
  {
   "cell_type": "code",
   "execution_count": 6,
   "id": "99757a4c",
   "metadata": {},
   "outputs": [
    {
     "name": "stderr",
     "output_type": "stream",
     "text": [
      "[nltk_data] Downloading package vader_lexicon to\n",
      "[nltk_data]     /home/ealopez/nltk_data...\n",
      "[nltk_data]   Package vader_lexicon is already up-to-date!\n"
     ]
    },
    {
     "data": {
      "text/plain": [
       "True"
      ]
     },
     "execution_count": 6,
     "metadata": {},
     "output_type": "execute_result"
    }
   ],
   "source": [
    "# Download the VADER lexicon\n",
    "nltk.download('vader_lexicon')"
   ]
  },
  {
   "cell_type": "code",
   "execution_count": 7,
   "id": "21fe83a3",
   "metadata": {},
   "outputs": [],
   "source": [
    "# TDIF for column 'Observational Trends'\n",
    "# Begin preprocessing: lowercasing and removing non-alphanumeric characters\n",
    "trends = df_food['Observational Trends']\n",
    "trends = [re.sub(r'[^A-Za-z0-9]', ' ', trend) for trend in trends]\n",
    "trends = [trend.lower() for trend in trends]"
   ]
  },
  {
   "cell_type": "code",
   "execution_count": 8,
   "id": "2a992573",
   "metadata": {},
   "outputs": [],
   "source": [
    "# Begin text analysis\n",
    "tfidf = TfidfVectorizer(analyzer = 'word', \n",
    "                        max_features = 2000,\n",
    "                        tokenizer = word_tokenize,\n",
    "                        stop_words = stopwords.words(\"english\"))"
   ]
  },
  {
   "cell_type": "code",
   "execution_count": 9,
   "id": "9673ccdd",
   "metadata": {},
   "outputs": [
    {
     "name": "stderr",
     "output_type": "stream",
     "text": [
      "/opt/conda/lib/python3.9/site-packages/sklearn/feature_extraction/text.py:388: UserWarning: Your stop_words may be inconsistent with your preprocessing. Tokenizing the stop words generated tokens [\"'d\", \"'ll\", \"'re\", \"'s\", \"'ve\", 'could', 'might', 'must', \"n't\", 'need', 'sha', 'wo', 'would'] not in stop_words.\n",
      "  warnings.warn('Your stop_words may be inconsistent with '\n"
     ]
    }
   ],
   "source": [
    "tfidf_trends_array = tfidf.fit_transform(trends).toarray()\n",
    "df_trends = pd.DataFrame(tfidf_trends_array)\n",
    "df_trends.columns = tfidf.get_feature_names()"
   ]
  },
  {
   "cell_type": "code",
   "execution_count": 10,
   "id": "534c8d50",
   "metadata": {},
   "outputs": [],
   "source": [
    "most_unique_instores = df_trends.idxmax(axis = 1)"
   ]
  },
  {
   "cell_type": "code",
   "execution_count": 11,
   "id": "17f19f51",
   "metadata": {},
   "outputs": [],
   "source": [
    "df_trends = pd.DataFrame(np.sum(df_trends, axis = 0))\n",
    "df_trends = df_trends.loc['able':]\n",
    "df_trends_vals = df_trends.loc[:,0]\n",
    "df_trends['tfidf'] = df_trends_vals\n",
    "df_trends = df_trends.sort_values(by = 'tfidf', ascending = False)"
   ]
  },
  {
   "cell_type": "code",
   "execution_count": 12,
   "id": "50d96afb",
   "metadata": {},
   "outputs": [],
   "source": [
    "df_trends = df_trends.loc[:'trays']\n",
    "df_trends = df_trends.transpose()"
   ]
  },
  {
   "cell_type": "markdown",
   "id": "0d48b0bd",
   "metadata": {},
   "source": [
    "**What were the top 20 most common words in responses to the following prompt from our team's standardized survey:**\n",
    "\n",
    "***\"Observational Trends Sample Questions\"***"
   ]
  },
  {
   "cell_type": "code",
   "execution_count": 13,
   "id": "4c54cfce",
   "metadata": {},
   "outputs": [
    {
     "data": {
      "text/plain": [
       "<AxesSubplot:ylabel='Count'>"
      ]
     },
     "execution_count": 13,
     "metadata": {},
     "output_type": "execute_result"
    },
    {
     "data": {
      "image/png": "[encoded data removed]",
      "text/plain": [
       "<Figure size 432x288 with 1 Axes>"
      ]
     },
     "metadata": {
      "needs_background": "light"
     },
     "output_type": "display_data"
    }
   ],
   "source": [
    "sns.histplot(data = df_trends)\n",
    "\n",
    "# the word with the highest value is \"people\" and so on"
   ]
  },
  {
   "cell_type": "markdown",
   "id": "96835e2a",
   "metadata": {},
   "source": [
    "## Data Setup"
   ]
  },
  {
   "cell_type": "code",
   "execution_count": 14,
   "id": "7b8297e8",
   "metadata": {},
   "outputs": [],
   "source": [
    "df_food = df_food.drop(columns = ['Date Conducted', 'Location Hours', 'Observational Trends'], axis = 1)\n",
    "df_food = df_food.loc[:,'Total Subjects':'Improperly Disposed Total']"
   ]
  },
  {
   "cell_type": "code",
   "execution_count": 28,
   "id": "cec703a6",
   "metadata": {},
   "outputs": [],
   "source": [
    "sums_one = df_food.loc[:, 'Total Subjects'].sum(axis = 0)\n",
    "sums_two = df_food.loc[:, 'Signage Viewer Total'].sum(axis = 0)\n",
    "sums_three = df_food.loc[:, 'Properly Disposed Total'].sum(axis = 0)\n",
    "sums_four = df_food.loc[:, 'Improperly Disposed Total'].sum(axis = 0)"
   ]
  },
  {
   "cell_type": "markdown",
   "id": "04600e36",
   "metadata": {},
   "source": [
    "## Student Food Disposal Habits"
   ]
  },
  {
   "cell_type": "code",
   "execution_count": 52,
   "id": "91d6e225",
   "metadata": {},
   "outputs": [],
   "source": [
    "df_sums = pd.DataFrame({'Total Subjects': sums_one,\n",
    "                       'Signage Viewer Total': sums_two,\n",
    "                       'Properly Disposed Total': sums_three,\n",
    "                       'Improperly Disposed Total': sums_four},\n",
    "                        index = ['Sums'])"
   ]
  },
  {
   "cell_type": "code",
   "execution_count": 54,
   "id": "349949be",
   "metadata": {},
   "outputs": [],
   "source": [
    "df_sums = df_sums.reset_index()\n",
    "df_sums = df_sums.drop(columns = ['index'])"
   ]
  },
  {
   "cell_type": "code",
   "execution_count": 61,
   "id": "ae4440ac",
   "metadata": {},
   "outputs": [],
   "source": [
    "df_sums['Signage Viewers'] = df_sums.loc[:,'Signage Viewer Total'].div(df_sums.loc[:,'Total Subjects'])"
   ]
  },
  {
   "cell_type": "code",
   "execution_count": 62,
   "id": "e5bc90e6",
   "metadata": {},
   "outputs": [],
   "source": [
    "df_sums['Properly Disposed'] = df_sums.loc[:,'Properly Disposed Total'].div(df_sums.loc[:,'Total Subjects'])"
   ]
  },
  {
   "cell_type": "code",
   "execution_count": 63,
   "id": "d15642b0",
   "metadata": {},
   "outputs": [],
   "source": [
    "df_sums['Properly Disposed of Signage Viewers'] = df_sums.loc[:,'Signage Viewer Total'].div(df_sums.loc[:,'Properly Disposed Total'])"
   ]
  },
  {
   "cell_type": "code",
   "execution_count": 64,
   "id": "e0a8fc93",
   "metadata": {},
   "outputs": [],
   "source": [
    "df_sums['Improperly Disposed'] = df_sums.loc[:,'Improperly Disposed Total'].div(df_sums.loc[:,'Total Subjects'])"
   ]
  },
  {
   "cell_type": "code",
   "execution_count": 65,
   "id": "948dfa21",
   "metadata": {},
   "outputs": [],
   "source": [
    "df_percent = df_sums[['Signage Viewers','Properly Disposed','Properly Disposed of Signage Viewers','Improperly Disposed']].copy()"
   ]
  },
  {
   "cell_type": "code",
   "execution_count": 66,
   "id": "c19c454d",
   "metadata": {},
   "outputs": [],
   "source": [
    "df_sums = df_sums.drop(columns = ['Signage Viewers','Properly Disposed','Properly Disposed of Signage Viewers','Improperly Disposed'])"
   ]
  },
  {
   "cell_type": "code",
   "execution_count": 70,
   "id": "c041907d",
   "metadata": {},
   "outputs": [
    {
     "data": {
      "text/html": [
       "<div>\n",
       "<style scoped>\n",
       "    .dataframe tbody tr th:only-of-type {\n",
       "        vertical-align: middle;\n",
       "    }\n",
       "\n",
       "    .dataframe tbody tr th {\n",
       "        vertical-align: top;\n",
       "    }\n",
       "\n",
       "    .dataframe thead th {\n",
       "        text-align: right;\n",
       "    }\n",
       "</style>\n",
       "<table border=\"1\" class=\"dataframe\">\n",
       "  <thead>\n",
       "    <tr style=\"text-align: right;\">\n",
       "      <th></th>\n",
       "      <th>Signage Viewers</th>\n",
       "      <th>Properly Disposed</th>\n",
       "      <th>Properly Disposed of Signage Viewers</th>\n",
       "      <th>Improperly Disposed</th>\n",
       "    </tr>\n",
       "  </thead>\n",
       "  <tbody>\n",
       "    <tr>\n",
       "      <th>0</th>\n",
       "      <td>0.516517</td>\n",
       "      <td>0.72973</td>\n",
       "      <td>0.707819</td>\n",
       "      <td>0.27027</td>\n",
       "    </tr>\n",
       "  </tbody>\n",
       "</table>\n",
       "</div>"
      ],
      "text/plain": [
       "   Signage Viewers  Properly Disposed  Properly Disposed of Signage Viewers  \\\n",
       "0         0.516517            0.72973                              0.707819   \n",
       "\n",
       "   Improperly Disposed  \n",
       "0              0.27027  "
      ]
     },
     "execution_count": 70,
     "metadata": {},
     "output_type": "execute_result"
    }
   ],
   "source": [
    "df_percent"
   ]
  },
  {
   "cell_type": "code",
   "execution_count": 71,
   "id": "9f69c503",
   "metadata": {},
   "outputs": [
    {
     "data": {
      "text/html": [
       "<div>\n",
       "<style scoped>\n",
       "    .dataframe tbody tr th:only-of-type {\n",
       "        vertical-align: middle;\n",
       "    }\n",
       "\n",
       "    .dataframe tbody tr th {\n",
       "        vertical-align: top;\n",
       "    }\n",
       "\n",
       "    .dataframe thead th {\n",
       "        text-align: right;\n",
       "    }\n",
       "</style>\n",
       "<table border=\"1\" class=\"dataframe\">\n",
       "  <thead>\n",
       "    <tr style=\"text-align: right;\">\n",
       "      <th></th>\n",
       "      <th>Total Subjects</th>\n",
       "      <th>Signage Viewer Total</th>\n",
       "      <th>Properly Disposed Total</th>\n",
       "      <th>Improperly Disposed Total</th>\n",
       "    </tr>\n",
       "  </thead>\n",
       "  <tbody>\n",
       "    <tr>\n",
       "      <th>0</th>\n",
       "      <td>333</td>\n",
       "      <td>172</td>\n",
       "      <td>243</td>\n",
       "      <td>90</td>\n",
       "    </tr>\n",
       "  </tbody>\n",
       "</table>\n",
       "</div>"
      ],
      "text/plain": [
       "   Total Subjects  Signage Viewer Total  Properly Disposed Total  \\\n",
       "0             333                   172                      243   \n",
       "\n",
       "   Improperly Disposed Total  \n",
       "0                         90  "
      ]
     },
     "execution_count": 71,
     "metadata": {},
     "output_type": "execute_result"
    }
   ],
   "source": [
    "df_sums"
   ]
  }
 ],
 "metadata": {
  "kernelspec": {
   "display_name": "Python 3 (ipykernel)",
   "language": "python",
   "name": "python3"
  },
  "language_info": {
   "codemirror_mode": {
    "name": "ipython",
    "version": 3
   },
   "file_extension": ".py",
   "mimetype": "text/x-python",
   "name": "python",
   "nbconvert_exporter": "python",
   "pygments_lexer": "ipython3",
   "version": "3.9.5"
  }
 },
 "nbformat": 4,
 "nbformat_minor": 5
}
